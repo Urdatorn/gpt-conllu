{
 "cells": [
  {
   "cell_type": "markdown",
   "id": "6e8e9402",
   "metadata": {},
   "source": [
    "Here's an example API query. To run this yourself you need to run `export OPENAI_API_KEY_TREEBANKS=\"your api key\"` in the terminal with the API key from your own OpenAI account. "
   ]
  },
  {
   "cell_type": "code",
   "execution_count": 1,
   "id": "a208ad2a",
   "metadata": {},
   "outputs": [
    {
     "name": "stderr",
     "output_type": "stream",
     "text": [
      "5it [03:00, 36.13s/it]"
     ]
    },
    {
     "name": "stdout",
     "output_type": "stream",
     "text": [
      "1\tThetta\tthetta\tPRON\t_\tCase=Nom|Gender=Neut|Number=Sing|PronType=Dem\t4\tnsubj\t4:nsubj\t_\n",
      "2\tär\tvara\tAUX\t_\tMood=Ind|Number=Sing|Person=3|Tense=Pres|VerbForm=Fin\t4\tcop\t4:cop\t_\n",
      "3\tinte\tinte\tPART\t_\tPolarity=Neg\t2\tneg\t2:neg\t_\n",
      "4\tbegynnilsen\tbegynnilsen\tNOUN\t_\tCase=Nom|Definite=Def|Gender=Com|Number=Sing\t0\troot\t0:root\t_\n",
      "5\taff\taff\tADP\t_\tAdpType=Prep\t10\tcase\t10:case\t_\n",
      "6\tJesu\tJesu\tPROPN\t_\tCase=Gen|Gender=Masc|Number=Sing\t7\tflat\t7:flat|10:nmod:poss\t_\n",
      "7\tChristi\tChristi\tPROPN\t_\tCase=Gen|Gender=Masc|Number=Sing\t10\tnmod:poss\t10:nmod:poss\t_\n",
      "8\tgudz\tgudz\tPROPN\t_\tCase=Gen|Gender=Masc|Number=Sing\t9\tnmod:poss\t9:nmod:poss|10:nmod:poss\t_\n",
      "9\tsons\tsons\tNOUN\t_\tCase=Gen|Gender=Masc|Number=Sing\t10\tnmod:poss\t10:nmod:poss\t_\n",
      "10\teuangelio\teuangelio\tNOUN\t_\tCase=Nom|Gender=Neut|Number=Sing\t4\tnmod\t4:nmod\t_\n",
      "11\t.\t.\tPUNCT\t_\t_\t4\tpunct\t4:punct\t_\n"
     ]
    },
    {
     "name": "stderr",
     "output_type": "stream",
     "text": [
      "\n"
     ]
    }
   ],
   "source": [
    "import os\n",
    "from src.pipeline import pipeline\n",
    "\n",
    "input_sentence = \"Thetta är inte begynnilsen aff Jesu Christi gudz sons euangelio.\"\n",
    "conllu = pipeline(input_sentence, model=\"gpt-5-mini-2025-08-07\")\n",
    "print(conllu)\n",
    "\n",
    "if not os.path.exists(\"output\"):\n",
    "    os.makedirs(\"output\")\n",
    "with open(\"output/parsed.conllu\", \"w\", encoding=\"utf-8\") as f:\n",
    "    f.write(conllu + \"\\n\")"
   ]
  }
 ],
 "metadata": {
  "kernelspec": {
   "display_name": "latest",
   "language": "python",
   "name": "python3"
  },
  "language_info": {
   "codemirror_mode": {
    "name": "ipython",
    "version": 3
   },
   "file_extension": ".py",
   "mimetype": "text/x-python",
   "name": "python",
   "nbconvert_exporter": "python",
   "pygments_lexer": "ipython3",
   "version": "3.12.2"
  }
 },
 "nbformat": 4,
 "nbformat_minor": 5
}
